{
 "cells": [
  {
   "cell_type": "code",
   "execution_count": 6,
   "metadata": {
    "collapsed": false
   },
   "outputs": [],
   "source": [
    "import cv2\n",
    "import numpy as np"
   ]
  },
  {
   "cell_type": "code",
   "execution_count": 7,
   "metadata": {
    "collapsed": true
   },
   "outputs": [],
   "source": [
    "#读入原图\n",
    "image = cv2.imread(\"1.jpg\")\n",
    "#cv2.imshow('original',image)"
   ]
  },
  {
   "cell_type": "code",
   "execution_count": 8,
   "metadata": {
    "collapsed": false
   },
   "outputs": [
    {
     "data": {
      "text/plain": [
       "True"
      ]
     },
     "execution_count": 8,
     "metadata": {},
     "output_type": "execute_result"
    }
   ],
   "source": [
    "#低通滤波\n",
    "kernel = np.array([[.11,.11,.11],\n",
    "                  [.11,.11,.11],\n",
    "                  [.11,.11,.11]])\n",
    "rect = cv2.filter2D(image,-1,kernel)\n",
    "cv2.imwrite('rect.jpg',rect)"
   ]
  },
  {
   "cell_type": "code",
   "execution_count": 9,
   "metadata": {
    "collapsed": false
   },
   "outputs": [
    {
     "data": {
      "text/plain": [
       "True"
      ]
     },
     "execution_count": 9,
     "metadata": {},
     "output_type": "execute_result"
    }
   ],
   "source": [
    "#高斯滤波\n",
    "kernel = np.array([[1,4,7,4,1],\n",
    "                  [4,16,26,16,4],\n",
    "                  [7,26,41,26,7],\n",
    "                  [4,16,26,16,4],\n",
    "                  [1,4,7,4,1]])/273.0\n",
    "gaussian = cv2.filter2D(image,-1,kernel)\n",
    "cv2.imwrite('gaussian.jpg',gaussian)"
   ]
  },
  {
   "cell_type": "code",
   "execution_count": 10,
   "metadata": {
    "collapsed": false
   },
   "outputs": [
    {
     "data": {
      "text/plain": [
       "True"
      ]
     },
     "execution_count": 10,
     "metadata": {},
     "output_type": "execute_result"
    }
   ],
   "source": [
    "#锐化\n",
    "kernel = np.array([[0,-2,0],\n",
    "                  [-2,9,-2],\n",
    "                  [0,-2,0]])\n",
    "sharpen = cv2.filter2D(image,-1,kernel)\n",
    "cv2.imwrite('sharpen.jpg',sharpen)"
   ]
  },
  {
   "cell_type": "code",
   "execution_count": 11,
   "metadata": {
    "collapsed": false
   },
   "outputs": [
    {
     "data": {
      "text/plain": [
       "True"
      ]
     },
     "execution_count": 11,
     "metadata": {},
     "output_type": "execute_result"
    }
   ],
   "source": [
    "#边缘检测\n",
    "kernel = np.array([[-1,-1,-1],\n",
    "                  [-1,8,-1],\n",
    "                  [-1,-1,-1]])\n",
    "edges = cv2.filter2D(image,-1,kernel)\n",
    "cv2.imwrite('edges.jpg',edges)"
   ]
  },
  {
   "cell_type": "code",
   "execution_count": 12,
   "metadata": {
    "collapsed": false
   },
   "outputs": [
    {
     "data": {
      "text/plain": [
       "True"
      ]
     },
     "execution_count": 12,
     "metadata": {},
     "output_type": "execute_result"
    }
   ],
   "source": [
    "#浮雕\n",
    "kernel = np.array([[-2,-2,-2,-2,0],\n",
    "                  [-2,-2,-2,0,2],\n",
    "                  [-2,-2,0,2,2],\n",
    "                  [-2,0,2,2,2],\n",
    "                  [0,2,2,2,2]])\n",
    "emboss = cv2.filter2D(image,-1,kernel)\n",
    "emboss = cv2.cvtColor(emboss,cv2.COLOR_RGB2GRAY)\n",
    "cv2.imwrite('emboss.jpg',emboss)"
   ]
  }
 ],
 "metadata": {
  "anaconda-cloud": {},
  "kernelspec": {
   "display_name": "Python [conda root]",
   "language": "python",
   "name": "conda-root-py"
  },
  "language_info": {
   "codemirror_mode": {
    "name": "ipython",
    "version": 3
   },
   "file_extension": ".py",
   "mimetype": "text/x-python",
   "name": "python",
   "nbconvert_exporter": "python",
   "pygments_lexer": "ipython3",
   "version": "3.5.2"
  }
 },
 "nbformat": 4,
 "nbformat_minor": 1
}
